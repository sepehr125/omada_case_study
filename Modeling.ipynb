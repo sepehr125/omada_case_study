{
 "cells": [
  {
   "cell_type": "code",
   "execution_count": 431,
   "metadata": {
    "collapsed": true
   },
   "outputs": [],
   "source": [
    "import pandas as pd\n",
    "import matplotlib.pyplot as plt\n",
    "import seaborn as sn\n",
    "%matplotlib inline\n",
    "\n",
    "import statsmodels.api as sm\n",
    "from sklearn.cross_validation import train_test_split"
   ]
  },
  {
   "cell_type": "code",
   "execution_count": 432,
   "metadata": {
    "collapsed": true
   },
   "outputs": [],
   "source": [
    "# Load data:\n",
    "master = pd.read_csv(\"./oh_ds_challenge.csv\")"
   ]
  },
  {
   "cell_type": "markdown",
   "metadata": {},
   "source": [
    "### Helper functions for pre-processing data and feature engineering:"
   ]
  },
  {
   "cell_type": "code",
   "execution_count": 433,
   "metadata": {
    "collapsed": true
   },
   "outputs": [],
   "source": [
    "def remove_improbable_losses(df, threshold=0.4):\n",
    "    \"\"\"\n",
    "    Remove participants whose week16_loss > threshold\n",
    "\n",
    "    INPUT: df (pandas dataframe)\n",
    "    OUTPUT: df, filtered\n",
    "    \"\"\"\n",
    "    outliers = df[df['week16_loss'] > threshold]['id'].unique()\n",
    "    return df[~df['id'].isin(outliers)]\n",
    "\n",
    "\n",
    "def add_gender_dummy(df):\n",
    "    \"\"\"\n",
    "    Add a binary (0,1) column for \"gender\" and drop original\n",
    "    1 for female, 0 for male\n",
    "    \"\"\"\n",
    "    df['is_female'] = pd.get_dummies(df['gender'])['f']\n",
    "    return df.drop('gender', axis=1)\n",
    "\n",
    "\n",
    "def remove_missing_target(df):\n",
    "    \"\"\"\n",
    "    Remove participants who have not finished the program\n",
    "    (i.e.) week16_loss, aka our target, is missing\n",
    "    \n",
    "    One could also count rows per person, or look max\n",
    "    program_week, depending on data integrity issues\n",
    "    \"\"\"\n",
    "    return df[~df['week16_loss'].isnull()]\n",
    "\n",
    "\n",
    "def add_engagement(df):\n",
    "    \"\"\"\n",
    "    Combine engagement scores per row into new weekly metric\n",
    "    \"\"\"\n",
    "    df['engagement_score'] = df['n_activities_tracked'] + df['n_group_comments'] + \\\n",
    "        df['n_group_messages'] + df['n_lessons'] + df['n_log_ins'] + \\\n",
    "        df['n_meals_tracked'] + df['n_private_messages']\n",
    "    return df\n",
    "\n",
    "\n",
    "def add_total_engagement(df):\n",
    "    \"\"\"\n",
    "    Aggregate weekly metric per person\n",
    "    \"\"\"\n",
    "    df['total_engagement'] = df['engagement_score'].groupby(df['id']).transform('sum')\n",
    "    return df"
   ]
  },
  {
   "cell_type": "code",
   "execution_count": 571,
   "metadata": {
    "collapsed": true
   },
   "outputs": [],
   "source": [
    "# Preparing our data\n",
    "df = remove_missing_target(master) # focusing only on those who finished all 16 weeks\n",
    "df = remove_improbable_losses(df) # remove outliers\n",
    "df = add_gender_dummy(df) # add binary 'is_female' column\n",
    "df = add_engagement(df) # combine engagement scores\n",
    "df = add_total_engagement(df) # tally engagement scores per person\n",
    "\n",
    "# select features to use for model\n",
    "predictors = ['initial_weight', 'age', 'is_female', 'bmi', \\\n",
    " 'personality_extraverted', 'personality_conventional', 'readiness_change_food', \\\n",
    " 'readiness_change_phys', 'n_weigh_ins', 'n_lessons', \\\n",
    " 'n_private_messages', 'n_group_messages', 'n_group_comments', \\\n",
    " 'n_log_ins', 'n_meals_tracked', 'n_activities_tracked']\n",
    "\n",
    "# select target\n",
    "target = 'week16_loss'\n",
    "\n",
    "# select only one row per person to train on (last row should do)\n",
    "model_ready = df[df['program_week']==16]\n",
    "\n",
    "X = model_ready[predictors]\n",
    "y = model_ready[target]\n",
    "\n",
    "# create training and test sets\n",
    "X_train, X_test, y_train, y_test = train_test_split(X, y, test_size=0.2)"
   ]
  },
  {
   "cell_type": "markdown",
   "metadata": {},
   "source": [
    "# Let's try a simple linear regression first"
   ]
  },
  {
   "cell_type": "code",
   "execution_count": 572,
   "metadata": {
    "collapsed": false
   },
   "outputs": [
    {
     "data": {
      "text/html": [
       "<table class=\"simpletable\">\n",
       "<caption>OLS Regression Results</caption>\n",
       "<tr>\n",
       "  <th>Dep. Variable:</th>       <td>week16_loss</td>   <th>  R-squared:         </th> <td>   0.606</td> \n",
       "</tr>\n",
       "<tr>\n",
       "  <th>Model:</th>                   <td>OLS</td>       <th>  Adj. R-squared:    </th> <td>   0.600</td> \n",
       "</tr>\n",
       "<tr>\n",
       "  <th>Method:</th>             <td>Least Squares</td>  <th>  F-statistic:       </th> <td>   96.37</td> \n",
       "</tr>\n",
       "<tr>\n",
       "  <th>Date:</th>             <td>Sat, 05 Mar 2016</td> <th>  Prob (F-statistic):</th> <td>9.70e-190</td>\n",
       "</tr>\n",
       "<tr>\n",
       "  <th>Time:</th>                 <td>12:01:33</td>     <th>  Log-Likelihood:    </th> <td>  1856.2</td> \n",
       "</tr>\n",
       "<tr>\n",
       "  <th>No. Observations:</th>      <td>  1018</td>      <th>  AIC:               </th> <td>  -3680.</td> \n",
       "</tr>\n",
       "<tr>\n",
       "  <th>Df Residuals:</th>          <td>  1002</td>      <th>  BIC:               </th> <td>  -3602.</td> \n",
       "</tr>\n",
       "<tr>\n",
       "  <th>Df Model:</th>              <td>    16</td>      <th>                     </th>     <td> </td>    \n",
       "</tr>\n",
       "<tr>\n",
       "  <th>Covariance Type:</th>      <td>nonrobust</td>    <th>                     </th>     <td> </td>    \n",
       "</tr>\n",
       "</table>\n",
       "<table class=\"simpletable\">\n",
       "<tr>\n",
       "              <td></td>                <th>coef</th>     <th>std err</th>      <th>t</th>      <th>P>|t|</th> <th>[95.0% Conf. Int.]</th> \n",
       "</tr>\n",
       "<tr>\n",
       "  <th>initial_weight</th>           <td> 9.087e-05</td> <td> 6.36e-05</td> <td>    1.428</td> <td> 0.154</td> <td> -3.4e-05     0.000</td>\n",
       "</tr>\n",
       "<tr>\n",
       "  <th>age</th>                      <td>    0.0003</td> <td> 9.08e-05</td> <td>    3.684</td> <td> 0.000</td> <td>    0.000     0.001</td>\n",
       "</tr>\n",
       "<tr>\n",
       "  <th>is_female</th>                <td>   -0.0039</td> <td>    0.004</td> <td>   -1.072</td> <td> 0.284</td> <td>   -0.011     0.003</td>\n",
       "</tr>\n",
       "<tr>\n",
       "  <th>bmi</th>                      <td>   -0.0003</td> <td>    0.000</td> <td>   -0.754</td> <td> 0.451</td> <td>   -0.001     0.001</td>\n",
       "</tr>\n",
       "<tr>\n",
       "  <th>personality_extraverted</th>  <td>   -0.0004</td> <td>    0.000</td> <td>   -0.857</td> <td> 0.392</td> <td>   -0.001     0.000</td>\n",
       "</tr>\n",
       "<tr>\n",
       "  <th>personality_conventional</th> <td>    0.0008</td> <td>    0.001</td> <td>    1.338</td> <td> 0.181</td> <td>   -0.000     0.002</td>\n",
       "</tr>\n",
       "<tr>\n",
       "  <th>readiness_change_food</th>    <td>   -0.0017</td> <td>    0.001</td> <td>   -1.958</td> <td> 0.051</td> <td>   -0.003  3.85e-06</td>\n",
       "</tr>\n",
       "<tr>\n",
       "  <th>readiness_change_phys</th>    <td>    0.0017</td> <td>    0.001</td> <td>    2.195</td> <td> 0.028</td> <td>    0.000     0.003</td>\n",
       "</tr>\n",
       "<tr>\n",
       "  <th>n_weigh_ins</th>              <td>    0.0032</td> <td>    0.000</td> <td>    7.597</td> <td> 0.000</td> <td>    0.002     0.004</td>\n",
       "</tr>\n",
       "<tr>\n",
       "  <th>n_lessons</th>                <td>    0.0028</td> <td>    0.001</td> <td>    2.066</td> <td> 0.039</td> <td>    0.000     0.005</td>\n",
       "</tr>\n",
       "<tr>\n",
       "  <th>n_private_messages</th>       <td>   -0.0014</td> <td>    0.002</td> <td>   -0.745</td> <td> 0.456</td> <td>   -0.005     0.002</td>\n",
       "</tr>\n",
       "<tr>\n",
       "  <th>n_group_messages</th>         <td>    0.0084</td> <td>    0.004</td> <td>    2.249</td> <td> 0.025</td> <td>    0.001     0.016</td>\n",
       "</tr>\n",
       "<tr>\n",
       "  <th>n_group_comments</th>         <td>    0.0024</td> <td>    0.001</td> <td>    2.664</td> <td> 0.008</td> <td>    0.001     0.004</td>\n",
       "</tr>\n",
       "<tr>\n",
       "  <th>n_log_ins</th>                <td>    0.0008</td> <td>    0.000</td> <td>    2.589</td> <td> 0.010</td> <td>    0.000     0.001</td>\n",
       "</tr>\n",
       "<tr>\n",
       "  <th>n_meals_tracked</th>          <td>    0.0020</td> <td>    0.001</td> <td>    2.532</td> <td> 0.012</td> <td>    0.000     0.004</td>\n",
       "</tr>\n",
       "<tr>\n",
       "  <th>n_activities_tracked</th>     <td>    0.0007</td> <td>    0.001</td> <td>    0.949</td> <td> 0.343</td> <td>   -0.001     0.002</td>\n",
       "</tr>\n",
       "</table>\n",
       "<table class=\"simpletable\">\n",
       "<tr>\n",
       "  <th>Omnibus:</th>       <td>148.311</td> <th>  Durbin-Watson:     </th> <td>   2.121</td>\n",
       "</tr>\n",
       "<tr>\n",
       "  <th>Prob(Omnibus):</th> <td> 0.000</td>  <th>  Jarque-Bera (JB):  </th> <td> 341.661</td>\n",
       "</tr>\n",
       "<tr>\n",
       "  <th>Skew:</th>          <td> 0.812</td>  <th>  Prob(JB):          </th> <td>6.45e-75</td>\n",
       "</tr>\n",
       "<tr>\n",
       "  <th>Kurtosis:</th>      <td> 5.328</td>  <th>  Cond. No.          </th> <td>    683.</td>\n",
       "</tr>\n",
       "</table>"
      ],
      "text/plain": [
       "<class 'statsmodels.iolib.summary.Summary'>\n",
       "\"\"\"\n",
       "                            OLS Regression Results                            \n",
       "==============================================================================\n",
       "Dep. Variable:            week16_loss   R-squared:                       0.606\n",
       "Model:                            OLS   Adj. R-squared:                  0.600\n",
       "Method:                 Least Squares   F-statistic:                     96.37\n",
       "Date:                Sat, 05 Mar 2016   Prob (F-statistic):          9.70e-190\n",
       "Time:                        12:01:33   Log-Likelihood:                 1856.2\n",
       "No. Observations:                1018   AIC:                            -3680.\n",
       "Df Residuals:                    1002   BIC:                            -3602.\n",
       "Df Model:                          16                                         \n",
       "Covariance Type:            nonrobust                                         \n",
       "============================================================================================\n",
       "                               coef    std err          t      P>|t|      [95.0% Conf. Int.]\n",
       "--------------------------------------------------------------------------------------------\n",
       "initial_weight            9.087e-05   6.36e-05      1.428      0.154      -3.4e-05     0.000\n",
       "age                          0.0003   9.08e-05      3.684      0.000         0.000     0.001\n",
       "is_female                   -0.0039      0.004     -1.072      0.284        -0.011     0.003\n",
       "bmi                         -0.0003      0.000     -0.754      0.451        -0.001     0.001\n",
       "personality_extraverted     -0.0004      0.000     -0.857      0.392        -0.001     0.000\n",
       "personality_conventional     0.0008      0.001      1.338      0.181        -0.000     0.002\n",
       "readiness_change_food       -0.0017      0.001     -1.958      0.051        -0.003  3.85e-06\n",
       "readiness_change_phys        0.0017      0.001      2.195      0.028         0.000     0.003\n",
       "n_weigh_ins                  0.0032      0.000      7.597      0.000         0.002     0.004\n",
       "n_lessons                    0.0028      0.001      2.066      0.039         0.000     0.005\n",
       "n_private_messages          -0.0014      0.002     -0.745      0.456        -0.005     0.002\n",
       "n_group_messages             0.0084      0.004      2.249      0.025         0.001     0.016\n",
       "n_group_comments             0.0024      0.001      2.664      0.008         0.001     0.004\n",
       "n_log_ins                    0.0008      0.000      2.589      0.010         0.000     0.001\n",
       "n_meals_tracked              0.0020      0.001      2.532      0.012         0.000     0.004\n",
       "n_activities_tracked         0.0007      0.001      0.949      0.343        -0.001     0.002\n",
       "==============================================================================\n",
       "Omnibus:                      148.311   Durbin-Watson:                   2.121\n",
       "Prob(Omnibus):                  0.000   Jarque-Bera (JB):              341.661\n",
       "Skew:                           0.812   Prob(JB):                     6.45e-75\n",
       "Kurtosis:                       5.328   Cond. No.                         683.\n",
       "==============================================================================\n",
       "\n",
       "Warnings:\n",
       "[1] Standard Errors assume that the covariance matrix of the errors is correctly specified.\n",
       "\"\"\""
      ]
     },
     "execution_count": 572,
     "metadata": {},
     "output_type": "execute_result"
    }
   ],
   "source": [
    "ols_model1 = sm.OLS(y_train, exog=X_train)\n",
    "ols_results1 = ols_model1.fit()\n",
    "ols_results1.summary()"
   ]
  },
  {
   "cell_type": "markdown",
   "metadata": {},
   "source": [
    "Not a *terrible* R^2 score at 0.624. There are some predictors with high p_values that we can likely do without to get a more generalizable model less prone to varying with noise.   Furthermore, intuitively we can guess many of these variables are highly correlated. \n",
    "\n",
    "But first, **let's see how we do on the test set** (target/label are still known)"
   ]
  },
  {
   "cell_type": "code",
   "execution_count": 624,
   "metadata": {
    "collapsed": true
   },
   "outputs": [],
   "source": [
    "def get_mean_abs_error(model, X_test, y_test):\n",
    "    preds = model.predict(X_test)\n",
    "    err = sum(abs(y_test - preds)) / len(y_test)\n",
    "    return err"
   ]
  },
  {
   "cell_type": "code",
   "execution_count": 621,
   "metadata": {
    "collapsed": false
   },
   "outputs": [
    {
     "data": {
      "text/plain": [
       "0.027665883473366612"
      ]
     },
     "execution_count": 621,
     "metadata": {},
     "output_type": "execute_result"
    }
   ],
   "source": [
    "get_mean_abs_error(ols_results1, X_test, y_test)"
   ]
  },
  {
   "cell_type": "markdown",
   "metadata": {},
   "source": [
    "I'm using mean absolute error here because it is more interpretable than mean-squared error.\n",
    "Our model is, on average, 2.7% off. Which isn't great, but also not terrible.\n",
    "Let's now try trimming down the variables and see if we can still keep the same error"
   ]
  },
  {
   "cell_type": "code",
   "execution_count": 625,
   "metadata": {
    "collapsed": false
   },
   "outputs": [
    {
     "data": {
      "text/html": [
       "<table class=\"simpletable\">\n",
       "<caption>OLS Regression Results</caption>\n",
       "<tr>\n",
       "  <th>Dep. Variable:</th>       <td>week16_loss</td>   <th>  R-squared:         </th> <td>   0.597</td> \n",
       "</tr>\n",
       "<tr>\n",
       "  <th>Model:</th>                   <td>OLS</td>       <th>  Adj. R-squared:    </th> <td>   0.594</td> \n",
       "</tr>\n",
       "<tr>\n",
       "  <th>Method:</th>             <td>Least Squares</td>  <th>  F-statistic:       </th> <td>   187.2</td> \n",
       "</tr>\n",
       "<tr>\n",
       "  <th>Date:</th>             <td>Sat, 05 Mar 2016</td> <th>  Prob (F-statistic):</th> <td>1.73e-193</td>\n",
       "</tr>\n",
       "<tr>\n",
       "  <th>Time:</th>                 <td>12:36:55</td>     <th>  Log-Likelihood:    </th> <td>  1844.8</td> \n",
       "</tr>\n",
       "<tr>\n",
       "  <th>No. Observations:</th>      <td>  1018</td>      <th>  AIC:               </th> <td>  -3674.</td> \n",
       "</tr>\n",
       "<tr>\n",
       "  <th>Df Residuals:</th>          <td>  1010</td>      <th>  BIC:               </th> <td>  -3634.</td> \n",
       "</tr>\n",
       "<tr>\n",
       "  <th>Df Model:</th>              <td>     8</td>      <th>                     </th>     <td> </td>    \n",
       "</tr>\n",
       "<tr>\n",
       "  <th>Covariance Type:</th>      <td>nonrobust</td>    <th>                     </th>     <td> </td>    \n",
       "</tr>\n",
       "</table>\n",
       "<table class=\"simpletable\">\n",
       "<tr>\n",
       "            <td></td>               <th>coef</th>     <th>std err</th>      <th>t</th>      <th>P>|t|</th> <th>[95.0% Conf. Int.]</th> \n",
       "</tr>\n",
       "<tr>\n",
       "  <th>age</th>                   <td>    0.0003</td> <td> 8.16e-05</td> <td>    3.927</td> <td> 0.000</td> <td>    0.000     0.000</td>\n",
       "</tr>\n",
       "<tr>\n",
       "  <th>readiness_change_phys</th> <td>    0.0005</td> <td>    0.000</td> <td>    0.999</td> <td> 0.318</td> <td>   -0.000     0.001</td>\n",
       "</tr>\n",
       "<tr>\n",
       "  <th>n_weigh_ins</th>           <td>    0.0032</td> <td>    0.000</td> <td>    7.623</td> <td> 0.000</td> <td>    0.002     0.004</td>\n",
       "</tr>\n",
       "<tr>\n",
       "  <th>n_lessons</th>             <td>    0.0023</td> <td>    0.001</td> <td>    1.746</td> <td> 0.081</td> <td>   -0.000     0.005</td>\n",
       "</tr>\n",
       "<tr>\n",
       "  <th>n_group_comments</th>      <td>    0.0021</td> <td>    0.001</td> <td>    2.367</td> <td> 0.018</td> <td>    0.000     0.004</td>\n",
       "</tr>\n",
       "<tr>\n",
       "  <th>n_log_ins</th>             <td>    0.0010</td> <td>    0.000</td> <td>    3.036</td> <td> 0.002</td> <td>    0.000     0.002</td>\n",
       "</tr>\n",
       "<tr>\n",
       "  <th>n_meals_tracked</th>       <td>    0.0020</td> <td>    0.001</td> <td>    2.481</td> <td> 0.013</td> <td>    0.000     0.004</td>\n",
       "</tr>\n",
       "<tr>\n",
       "  <th>n_activities_tracked</th>  <td>    0.0009</td> <td>    0.001</td> <td>    1.264</td> <td> 0.207</td> <td>   -0.000     0.002</td>\n",
       "</tr>\n",
       "</table>\n",
       "<table class=\"simpletable\">\n",
       "<tr>\n",
       "  <th>Omnibus:</th>       <td>143.425</td> <th>  Durbin-Watson:     </th> <td>   2.109</td>\n",
       "</tr>\n",
       "<tr>\n",
       "  <th>Prob(Omnibus):</th> <td> 0.000</td>  <th>  Jarque-Bera (JB):  </th> <td> 328.538</td>\n",
       "</tr>\n",
       "<tr>\n",
       "  <th>Skew:</th>          <td> 0.790</td>  <th>  Prob(JB):          </th> <td>4.56e-72</td>\n",
       "</tr>\n",
       "<tr>\n",
       "  <th>Kurtosis:</th>      <td> 5.291</td>  <th>  Cond. No.          </th> <td>    55.6</td>\n",
       "</tr>\n",
       "</table>"
      ],
      "text/plain": [
       "<class 'statsmodels.iolib.summary.Summary'>\n",
       "\"\"\"\n",
       "                            OLS Regression Results                            \n",
       "==============================================================================\n",
       "Dep. Variable:            week16_loss   R-squared:                       0.597\n",
       "Model:                            OLS   Adj. R-squared:                  0.594\n",
       "Method:                 Least Squares   F-statistic:                     187.2\n",
       "Date:                Sat, 05 Mar 2016   Prob (F-statistic):          1.73e-193\n",
       "Time:                        12:36:55   Log-Likelihood:                 1844.8\n",
       "No. Observations:                1018   AIC:                            -3674.\n",
       "Df Residuals:                    1010   BIC:                            -3634.\n",
       "Df Model:                           8                                         \n",
       "Covariance Type:            nonrobust                                         \n",
       "=========================================================================================\n",
       "                            coef    std err          t      P>|t|      [95.0% Conf. Int.]\n",
       "-----------------------------------------------------------------------------------------\n",
       "age                       0.0003   8.16e-05      3.927      0.000         0.000     0.000\n",
       "readiness_change_phys     0.0005      0.000      0.999      0.318        -0.000     0.001\n",
       "n_weigh_ins               0.0032      0.000      7.623      0.000         0.002     0.004\n",
       "n_lessons                 0.0023      0.001      1.746      0.081        -0.000     0.005\n",
       "n_group_comments          0.0021      0.001      2.367      0.018         0.000     0.004\n",
       "n_log_ins                 0.0010      0.000      3.036      0.002         0.000     0.002\n",
       "n_meals_tracked           0.0020      0.001      2.481      0.013         0.000     0.004\n",
       "n_activities_tracked      0.0009      0.001      1.264      0.207        -0.000     0.002\n",
       "==============================================================================\n",
       "Omnibus:                      143.425   Durbin-Watson:                   2.109\n",
       "Prob(Omnibus):                  0.000   Jarque-Bera (JB):              328.538\n",
       "Skew:                           0.790   Prob(JB):                     4.56e-72\n",
       "Kurtosis:                       5.291   Cond. No.                         55.6\n",
       "==============================================================================\n",
       "\n",
       "Warnings:\n",
       "[1] Standard Errors assume that the covariance matrix of the errors is correctly specified.\n",
       "\"\"\""
      ]
     },
     "execution_count": 625,
     "metadata": {},
     "output_type": "execute_result"
    }
   ],
   "source": [
    "important_predictors = results.pvalues[results.pvalues < 0.05].index\n",
    "\n",
    "ols_model2 = OLS(y_train, X_train[important_predictors])\n",
    "ols_results2 = ols_model2.fit()\n",
    "\n",
    "ols_results2.summary()"
   ]
  },
  {
   "cell_type": "markdown",
   "metadata": {},
   "source": [
    "### For using only half as many predictors (8 rather than 16), the reduction in R^2 is ok.\n",
    "We can also note that p_values that were small in previous model are now larger. This indicates colinearity among the variables, as we guessed. This could mean that test scores haven't changed much with this new model. Let's try it out!"
   ]
  },
  {
   "cell_type": "code",
   "execution_count": 626,
   "metadata": {
    "collapsed": false
   },
   "outputs": [
    {
     "data": {
      "text/plain": [
       "0.027676522815333466"
      ]
     },
     "execution_count": 626,
     "metadata": {},
     "output_type": "execute_result"
    }
   ],
   "source": [
    "get_mean_abs_error(ols_results2, X_test[important_predictors], y_test)"
   ]
  },
  {
   "cell_type": "markdown",
   "metadata": {},
   "source": [
    "Test error is basically the same with much fewer features, so it makes sense to keep the simpler model. It would be interesting to perform PCA on features we suspect are co-linear to reduce dimensionality, using the optimal linear transformation of them to use in our regression model as a sort of super-variable. We should note that while doing so may improve the model's predictive power, the super-variable will likely not have an intuitive interpretation."
   ]
  },
  {
   "cell_type": "markdown",
   "metadata": {},
   "source": [
    "## Another way to deal with colinearity is using a decision tree method. "
   ]
  },
  {
   "cell_type": "code",
   "execution_count": 627,
   "metadata": {
    "collapsed": false
   },
   "outputs": [
    {
     "name": "stdout",
     "output_type": "stream",
     "text": [
      "Error:\n"
     ]
    },
    {
     "data": {
      "text/plain": [
       "0.028551239925667011"
      ]
     },
     "execution_count": 627,
     "metadata": {},
     "output_type": "execute_result"
    }
   ],
   "source": [
    "from sklearn.ensemble import RandomForestRegressor\n",
    "rf = RandomForestRegressor(n_estimators=100)\n",
    "rf.fit(X_train,y_train)\n",
    "\n",
    "print(\"Error:\")\n",
    "get_mean_abs_error(rf, X_test, y_test)"
   ]
  },
  {
   "cell_type": "markdown",
   "metadata": {},
   "source": [
    "Comparable error on the test set! \n",
    "\n",
    "# The good stuff: Feature importances\n",
    "Now we can see which features our ensemble has figured out to be most salient in splitting up the data, regardless of colinearity among the parameters. We do know from OLS that all engagement is positively correlated with outcomes, so feature importances can be interpreted in that light."
   ]
  },
  {
   "cell_type": "code",
   "execution_count": 581,
   "metadata": {
    "collapsed": false
   },
   "outputs": [
    {
     "data": {
      "text/plain": [
       "<Container object of 16 artists>"
      ]
     },
     "execution_count": 581,
     "metadata": {},
     "output_type": "execute_result"
    },
    {
     "data": {
      "image/png": "[encoded data removed]",
      "text/plain": [
       "<matplotlib.figure.Figure at 0x139342160>"
      ]
     },
     "metadata": {},
     "output_type": "display_data"
    }
   ],
   "source": [
    "# Features, sorted by importance:\n",
    "rf_feats = zip(rf.feature_importances_, predictors)\n",
    "rf_feats_sorted = sorted(rf_feats, key=lambda t: t[0])\n",
    "\n",
    "# Prepare to plot!\n",
    "x_vals = range(len(rf_feats_sorted))\n",
    "y_vals = [val for val,name in rf_feats_sorted]\n",
    "y_ticks = [name for val,name in rf_feats_sorted]\n",
    "fig = plt.figure(figsize=(12,10))\n",
    "plt.title(\"Relative feature importances\")\n",
    "plt.tick_params(labelsize='large')\n",
    "plt.yticks(x_vals, y_ticks)\n",
    "plt.barh(bottom=x_vals,width=y_vals)"
   ]
  },
  {
   "cell_type": "markdown",
   "metadata": {},
   "source": [
    "# Finally, let's predict weight loss for those who haven't finished the program"
   ]
  },
  {
   "cell_type": "code",
   "execution_count": 603,
   "metadata": {
    "collapsed": true
   },
   "outputs": [],
   "source": [
    "def get_new_users(masterdf):\n",
    "    temp = master.groupby('id').max()\n",
    "    new_users = temp[temp['program_week'] < 16]\n",
    "    new_users = add_gender_dummy(new_users)\n",
    "    return new_users"
   ]
  },
  {
   "cell_type": "code",
   "execution_count": 604,
   "metadata": {
    "collapsed": true
   },
   "outputs": [
    {
     "name": "stderr",
     "output_type": "stream",
     "text": [
      "/Applications/anaconda/lib/python3.4/site-packages/ipykernel/__main__.py:17: SettingWithCopyWarning: \n",
      "A value is trying to be set on a copy of a slice from a DataFrame.\n",
      "Try using .loc[row_indexer,col_indexer] = value instead\n",
      "\n",
      "See the caveats in the documentation: http://pandas.pydata.org/pandas-docs/stable/indexing.html#indexing-view-versus-copy\n"
     ]
    }
   ],
   "source": [
    "new_users = get_new_users(master)"
   ]
  },
  {
   "cell_type": "code",
   "execution_count": 608,
   "metadata": {
    "collapsed": false
   },
   "outputs": [],
   "source": [
    "prediction = rf.predict(new_users[predictors])"
   ]
  },
  {
   "cell_type": "code",
   "execution_count": 609,
   "metadata": {
    "collapsed": false
   },
   "outputs": [
    {
     "data": {
      "text/plain": [
       "<Container object of 336 artists>"
      ]
     },
     "execution_count": 609,
     "metadata": {},
     "output_type": "execute_result"
    },
    {
     "data": {
      "image/png": "[encoded data removed]",
      "text/plain": [
       "<matplotlib.figure.Figure at 0x13a8ecd68>"
      ]
     },
     "metadata": {},
     "output_type": "display_data"
    }
   ],
   "source": [
    "plt.bar(new_users.index, prediction)"
   ]
  }
 ],
 "metadata": {
  "kernelspec": {
   "display_name": "Python 3",
   "language": "python",
   "name": "python3"
  },
  "language_info": {
   "codemirror_mode": {
    "name": "ipython",
    "version": 3
   },
   "file_extension": ".py",
   "mimetype": "text/x-python",
   "name": "python",
   "nbconvert_exporter": "python",
   "pygments_lexer": "ipython3",
   "version": "3.4.4"
  }
 },
 "nbformat": 4,
 "nbformat_minor": 0
}
